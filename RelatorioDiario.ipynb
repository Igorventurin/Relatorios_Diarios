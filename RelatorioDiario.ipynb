{
 "cells": [
  {
   "cell_type": "markdown",
   "id": "8419a6dd",
   "metadata": {},
   "source": [
    "# RELATÓRIO DIÁRIO"
   ]
  },
  {
   "cell_type": "markdown",
   "id": "65683828",
   "metadata": {},
   "source": [
    "Código criado para mandar relatório diariamente sobre as atividades executadas, em execução e a serem executadas na SECTI-MA.\n",
    "#### Dev: Igor Matheus Lial Venturin"
   ]
  },
  {
   "cell_type": "code",
   "execution_count": 1,
   "id": "16fb1dd7",
   "metadata": {},
   "outputs": [],
   "source": [
    "import time\n",
    "import pyautogui\n",
    "from selenium import webdriver\n",
    "driver = webdriver.Chrome()\n",
    "from selenium.webdriver.common.keys import Keys\n",
    "from selenium.webdriver.common.by import By\n",
    "import pyperclip\n",
    "from datetime import date\n",
    "\n",
    "pyautogui.PAUSE = 2"
   ]
  },
  {
   "cell_type": "markdown",
   "id": "21f004c9",
   "metadata": {},
   "source": [
    "# Extração dos dados no Kanban do Trello"
   ]
  },
  {
   "cell_type": "code",
   "execution_count": 2,
   "id": "5c9f0f63",
   "metadata": {},
   "outputs": [],
   "source": [
    "driver.get('https://trello.com/pt-BR/login') #entrando no site do trello\n",
    "driver.maximize_window()\n",
    "time.sleep(10)\n",
    "driver.find_element(By.XPATH, '//*[@id=\"googleButton\"]/span[2]').click() #clicando pra entrar com conta google\n",
    "time.sleep(10)\n",
    "driver.find_element(By.XPATH, '//*[@id=\"identifierId\"]').send_keys(\"LOGIN\")#digitando o login\n",
    "driver.find_element(By.XPATH, '//*[@id=\"identifierId\"]').send_keys(Keys.ENTER)\n",
    "time.sleep(10)\n",
    "driver.find_element(By.XPATH, '//*[@id=\"password\"]/div[1]/div/div[1]/input').send_keys(\"SENHA\") #digitando a senha\n",
    "driver.find_element(By.XPATH, '//*[@id=\"password\"]/div[1]/div/div[1]/input').send_keys(Keys.ENTER)\n",
    "time.sleep(15)\n",
    "#pegando as informações\n",
    "driver.find_element(By.XPATH, '//*[@id=\"content\"]/div/div[2]/div/div/div/div/div[2]/div/div/div/div[3]/div/div[2]/ul/li/a/div/div[1]/div').click()\n",
    "time.sleep(5)\n",
    "#tratando as informações, retirando as siglas dos nomes das pessoas no card\n",
    "fazendo1 = driver.find_element(By.XPATH, '//*[@id=\"board\"]/div[4]/div/div[2]').text #ações do quadro \"FAZENDO\"\n",
    "fazendo = fazendo1.replace( \"\"\"M\n",
    "\"\"\" , \"\"\"\"\"\" ).replace(\"\"\"\n",
    "LO\"\"\", \"\"\"\"\"\")\n",
    "\n",
    "sprint1 = driver.find_element(By.XPATH, '//*[@id=\"board\"]/div[3]/div/div[2]').text #ações do quadro \"SPRINT SEMANAL\"\n",
    "sprint = sprint1.replace( \"\"\"M\n",
    "\"\"\" , \"\"\"\"\"\" ).replace(\"\"\"\n",
    "LO\"\"\", \"\"\"\"\"\")\n",
    "\n",
    "time.sleep(5)"
   ]
  },
  {
   "cell_type": "markdown",
   "id": "ae99ecd5",
   "metadata": {},
   "source": [
    "# Extração dos dados no site do Centelha 2"
   ]
  },
  {
   "cell_type": "code",
   "execution_count": 3,
   "id": "b0b19e25",
   "metadata": {},
   "outputs": [],
   "source": [
    "driver.get(\"https://ma2.programacentelha.com.br/\") #entrando no site com os dados atualizados\n",
    "driver.maximize_window()\n",
    "time.sleep(15)\n",
    "#extraindo os dados relevantes\n",
    "dias = driver.find_element(By.CSS_SELECTOR, '#contadorBanner > div > div.textDiv_Days > span').text \n",
    "submetidas = driver.find_element(By.CSS_SELECTOR , '#graficoNumeroEdicao > div:nth-child(3) > div.estatistica').text\n",
    "iniciadas = driver.find_element(By.CSS_SELECTOR , '#graficoNumeroEdicao > div:nth-child(2) > div.estatistica').text\n",
    "cadastrados = driver.find_element(By.CSS_SELECTOR , '#graficoNumeroEdicao > div:nth-child(1) > div.estatistica').text\n",
    "time.sleep(5)\n",
    "driver.quit()\n",
    "data_atual = date.today() #adquirindo a data atual\n",
    "data_em_texto = data_atual.strftime('%d/%m/%Y') #formatando em formato dd/mm/aa"
   ]
  },
  {
   "cell_type": "markdown",
   "id": "9c4659b2",
   "metadata": {},
   "source": [
    "# Envio do relatório com os dados no WhastApp"
   ]
  },
  {
   "cell_type": "code",
   "execution_count": 4,
   "id": "9eaa2ae1",
   "metadata": {},
   "outputs": [],
   "source": [
    "pyautogui.hotkey('winleft', 'm') #indo para a area de trabalho do windows\n",
    "pyautogui.hotkey('winleft', 'q') #abrindo a barra de pesquisa do windos\n",
    "pyautogui.write(\"Whatsapp\") #escrevendo WhastApp\n",
    "pyautogui.press(\"ENTER\") # abrindo o aplicativo onde o login já está feito\n",
    "time.sleep(30)\n",
    "pyautogui.click(178, 111) #clicanco na barra de pesquisa do aplicativo\n",
    "pyautogui.write(\"Eixos Uni + Empresa\") #pesquisando pelo grupo a ser enviado o relatório\n",
    "time.sleep(10)\n",
    "pyautogui.press('enter') #pesquisando\n",
    "time.sleep(10)\n",
    "pyautogui.click(850, 1008) #clicando na caixa de texto do grupo\n",
    "msg = (f\"\"\"\n",
    "*Ola, Pessoal!*\n",
    "*Espero que estejam todos bem.*\n",
    "\n",
    "Hoje é dia *{data_em_texto}* e aqui está nossa atualização diaria!\n",
    "\n",
    "*Números Centelha 2:*\n",
    "\n",
    "- Faltam *{dias}* dias para o encerramento\n",
    "- Nós temos *{submetidas}* ideias submetidas\n",
    "- *{iniciadas}* ideias iniciadas\n",
    "- *{cadastrados}* pessoas cadastradas no sistema \n",
    "\n",
    "*Ações no Trello:*\n",
    "\n",
    "_-Sprint Semanal_\n",
    "\n",
    "{sprint}\n",
    "\n",
    "_-Fazendo_\n",
    "\n",
    "{fazendo}\n",
    "\n",
    "*Bom dia e bom trabalho a todos*,\n",
    "Igor!\"\"\")\n",
    "\n",
    "pyperclip.copy(msg)\n",
    "pyautogui.hotkey('CTRL','v') #escrevendo a mensagem\n",
    "time.sleep(5)"
   ]
  },
  {
   "cell_type": "markdown",
   "id": "940acd29",
   "metadata": {},
   "source": [
    "# Tirando um print no Google Agenda do dia atual"
   ]
  },
  {
   "cell_type": "code",
   "execution_count": null,
   "id": "4b57b7b8",
   "metadata": {},
   "outputs": [],
   "source": [
    "driver = webdriver.Chrome()\n",
    "time.sleep(3)\n",
    "driver.get('https://www.google.com/intl/pt-BR/calendar/about/') #entrando no google agendas\n",
    "time.sleep(15)\n",
    "driver.maximize_window()\n",
    "time.sleep(5)\n",
    "driver.find_element(By.XPATH, '/html/body/div/div/div/div[1]/header/div/a[4]').click() #clicando pra fazer login\n",
    "time.sleep(8)\n",
    "driver.find_element(By.XPATH, '//*[@id=\"identifierId\"]').send_keys(\"LOGIN\") #escrevendo o login\n",
    "driver.find_element(By.XPATH, '//*[@id=\"identifierId\"]').send_keys(Keys.ENTER)\n",
    "time.sleep(8)\n",
    "driver.find_element(By.XPATH, '//*[@id=\"password\"]/div[1]/div/div[1]/input').send_keys(\"SENHA\") #escrevendo a senha\n",
    "driver.find_element(By.XPATH, '//*[@id=\"password\"]/div[1]/div/div[1]/input').send_keys(Keys.ENTER)\n",
    "time.sleep(30)\n",
    "pyautogui.click (1673,146) #clicando para procurar a opção de vizualização por dia\n",
    "time.sleep(5)\n",
    "pyautogui.click (1691,201) #clicando na opção DIA\n",
    "time.sleep(3)\n",
    "\n",
    "pyautogui.moveTo(1862, 195) #movento para o inicio do print\n",
    "pyautogui.press('prntscrn') #clicando em print\n",
    "time.sleep(2)\n",
    "pyautogui.dragTo( 222, 1033, 2.5, button='left') #arrastando e pressionando o botão esquerdo\n",
    "time.sleep(3)\n",
    "pyautogui.click (1785,1028) #clicando em copiar printscreen\n",
    "time.sleep(4)\n",
    "driver.quit() #saindo do navegador\n"
   ]
  },
  {
   "cell_type": "markdown",
   "id": "6dc46cef",
   "metadata": {},
   "source": [
    "# Enviando o print junto com a relatório para o grupo do trabalho"
   ]
  },
  {
   "cell_type": "code",
   "execution_count": null,
   "id": "831a68b2",
   "metadata": {},
   "outputs": [],
   "source": [
    "time.sleep(5)\n",
    "pyautogui.hotkey('winleft', 'q') #abrindo a barra de pesquisa do windos\n",
    "time.sleep(2)\n",
    "pyautogui.write(\"Whatsapp\") #escrevendo WhastApp\n",
    "pyautogui.press(\"enter\") # abrindo o aplicativo onde o login já está feito\n",
    "time.sleep(3)\n",
    "pyautogui.click(850, 1008) #clicando na caixa de texto do grupo\n",
    "time.sleep(3)\n",
    "pyautogui.hotkey('CTRL','v') #colando o print\n",
    "time.sleep(3)\n",
    "pyautogui.press('enter') #enviando a mensagem completa\n",
    "time.sleep(5)\n",
    "pyautogui.click(1891, 15) #fechando o WhatsApp"
   ]
  }
 ],
 "metadata": {
  "kernelspec": {
   "display_name": "meuambiente",
   "language": "python",
   "name": "meuambiente"
  },
  "language_info": {
   "codemirror_mode": {
    "name": "ipython",
    "version": 3
   },
   "file_extension": ".py",
   "mimetype": "text/x-python",
   "name": "python",
   "nbconvert_exporter": "python",
   "pygments_lexer": "ipython3",
   "version": "3.9.7"
  }
 },
 "nbformat": 4,
 "nbformat_minor": 5
}
